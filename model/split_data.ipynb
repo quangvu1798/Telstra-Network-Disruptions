{
 "cells": [
  {
   "cell_type": "code",
   "execution_count": 4,
   "metadata": {},
   "outputs": [],
   "source": [
    "import pandas as pd\n",
    "import numpy as np\n",
    "import matplotlib.pyplot as plt\n",
    "from sklearn.tree import DecisionTreeClassifier\n",
    "from sklearn.ensemble import RandomForestClassifier\n",
    "from sklearn.model_selection import train_test_split\n",
    "from sklearn import  metrics \n",
    "from pandas import DataFrame "
   ]
  },
  {
   "cell_type": "code",
   "execution_count": null,
   "metadata": {},
   "outputs": [],
   "source": [
    "train = pd.read_csv('train.csv', index_col=0) \n",
    "test = pd.read_csv('test.csv', index_col=0)\n",
    "\n",
    "# train['location'] = [l.replace('location ', '') for l in train['location']]\n",
    "# train['location'] = train['location'].astype('int')\n",
    "\n",
    "# test['location'] = [l.replace('location ', '') for l in test['location']]\n",
    "# test['location'] = test['location'].astype('int')\n",
    "\n",
    "event_type = pd.read_csv('event_type.csv', index_col=0)\n",
    "severity_type = pd.read_csv('severity_type.csv', index_col=0)\n",
    "log_feature = pd.read_csv('log_feature.csv', index_col=0)\n",
    "resource_type = pd.read_csv('resource_type.csv', index_col=0)"
   ]
  },
  {
   "cell_type": "code",
   "execution_count": 11,
   "metadata": {
    "tags": [
     "outputPrepend"
    ]
   },
   "outputs": [
    {
     "output_type": "stream",
     "name": "stdout",
     "text": "Int64Index([18552, 18551, 18549, 18547, 18546, 18545, 18544, 18541, 18540,\n            18534,\n            ...\n            16672, 16670, 16668, 16666, 16665, 16664, 16663, 16662, 16658,\n            16657],\n           dtype='int64', name='id', length=1120)\n         id      location\n0     18552  location 468\n1     18551  location 891\n2     18549  location 465\n3     18547  location 504\n4     18546  location 892\n...     ...           ...\n1115  16664  location 584\n1116  16663  location 709\n1117  16662  location 460\n1118  16658  location 300\n1119  16657  location 734\n\n[1120 rows x 2 columns]\n         id     event_type\n0     17508  event_type 15\n1     17508  event_type 11\n2     17508  event_type 15\n3     17508  event_type 11\n4     17909  event_type 11\n...     ...            ...\n3614  18304  event_type 15\n3615  18304  event_type 11\n3616  18304  event_type 15\n3617  18243  event_type 11\n3618  16843  event_type 11\n\n[3619 rows x 2 columns]\n         id    severity_type\n0     17508  severity_type 1\n1     17909  severity_type 1\n2     17648  severity_type 2\n3     17155  severity_type 1\n4     18500  severity_type 2\n...     ...              ...\n1115  17762  severity_type 1\n1116  18338  severity_type 1\n1117  18304  severity_type 1\n1118  18243  severity_type 1\n1119  16843  severity_type 1\n\n[1120 rows x 2 columns]\n       log_feature  volume\nid                        \n17508  feature 203       3\n17508   feature 82       4\n17508  feature 201       3\n17508   feature 80       4\n17508  feature 203       3\n...            ...     ...\n18243   feature 68       1\n16843   feature 54       4\n16843  feature 170       2\n16843   feature 54       4\n16843  feature 170       2\n\n[15778 rows x 2 columns]\n          id  log_feature  volume\n0      17508  feature 203       3\n1      17508   feature 82       4\n2      17508  feature 201       3\n3      17508   feature 80       4\n4      17508  feature 203       3\n...      ...          ...     ...\n15773  18243   feature 68       1\n15774  16843   feature 54       4\n15775  16843  feature 170       2\n15776  16843   feature 54       4\n15777  16843  feature 170       2\n\n[15778 rows x 3 columns]\n         id    resource_type\n0     17508  resource_type 8\n1     17909  resource_type 8\n2     17648  resource_type 8\n3     17155  resource_type 2\n4     18500  resource_type 2\n...     ...              ...\n1571  17762  resource_type 8\n1572  18338  resource_type 8\n1573  18304  resource_type 8\n1574  18243  resource_type 8\n1575  16843  resource_type 8\n\n[1576 rows x 2 columns]\n"
    }
   ],
   "source": [
    "test = pd.DataFrame.sort_index(test,ascending=False)\n",
    "A = test[:1120]\n",
    "print(A.index)\n",
    "#test\n",
    "results = A\n",
    "result = A[:0]\n",
    "result['id'] = results.index\n",
    "result = result.drop('location', 1)\n",
    "result['location'] = results.values\n",
    "print(result)\n",
    "result = DataFrame(result, columns= result.columns)\n",
    "network_csv = result.to_csv (r'test/test1.csv', index = None, header=True)\n",
    "\n",
    "#event\n",
    "results = event_type[:0]\n",
    "for i in event_type.index:\n",
    "    if i in A.index:\n",
    "        results = results.append(event_type[event_type.index == i])\n",
    "result = event_type[:0]\n",
    "result['id'] = results.index\n",
    "result = result.drop('event_type', 1)\n",
    "result['event_type'] = results.values\n",
    "print(result)\n",
    "result = DataFrame(result, columns= result.columns)\n",
    "network_csv = result.to_csv (r'test/event_type1.csv', index = None, header=True)\n",
    "\n",
    "#severity\n",
    "results = severity_type[:0]\n",
    "for i in severity_type.index:\n",
    "    if i in A.index:\n",
    "        results = results.append(severity_type[severity_type.index == i])\n",
    "result = severity_type[:0]\n",
    "result['id'] = results.index\n",
    "result = result.drop('severity_type', 1)\n",
    "result['severity_type'] = results.values\n",
    "print(result)\n",
    "result = DataFrame(result, columns= result.columns)\n",
    "network_csv = result.to_csv (r'test/severity_type1.csv', index = None, header=True)\n",
    "\n",
    "#log_feature\n",
    "results = log_feature[:0]\n",
    "for i in log_feature.index:\n",
    "    if i in A.index:\n",
    "        results = results.append(log_feature[log_feature.index == i])\n",
    "result = log_feature[:0]\n",
    "print(results)\n",
    "result['id'] = results.index\n",
    "result = result.drop('log_feature', 1)\n",
    "result = result.drop('volume', 1)\n",
    "result['log_feature'] = list(results['log_feature'])\n",
    "result['volume'] = list(results['volume'])\n",
    "print(result)\n",
    "result = DataFrame(result, columns= result.columns)\n",
    "network_csv = result.to_csv (r'test/log_feature1.csv', index = None, header=True)\n",
    "\n",
    "#resource\n",
    "results = resource_type[:0]\n",
    "for i in resource_type.index:\n",
    "    if i in A.index:\n",
    "        results = results.append(resource_type[resource_type.index == i])\n",
    "result = resource_type[:0]\n",
    "result['id'] = results.index\n",
    "result = result.drop('resource_type', 1)\n",
    "result['resource_type'] = results.values\n",
    "print(result)\n",
    "result = DataFrame(result, columns= result.columns)\n",
    "network_csv = result.to_csv (r'test/resource_type1.csv', index = None, header=True)"
   ]
  },
  {
   "cell_type": "code",
   "execution_count": 7,
   "metadata": {},
   "outputs": [
    {
     "output_type": "stream",
     "name": "stdout",
     "text": "event_type\nid                  \n16416  event_type 15\n16538  event_type 15\n16538  event_type 11\n16538  event_type 15\n16538  event_type 11\n...              ...\n18304  event_type 15\n18304  event_type 11\n18304  event_type 15\n18243  event_type 11\n16843  event_type 11\n\n[4683 rows x 1 columns]\n         severity_type\nid                    \n16416  severity_type 2\n16538  severity_type 1\n17508  severity_type 1\n17909  severity_type 1\n16479  severity_type 2\n...                ...\n16653  severity_type 1\n18338  severity_type 1\n18304  severity_type 1\n18243  severity_type 1\n16843  severity_type 1\n\n[1456 rows x 1 columns]\n       log_feature  volume\nid                        \n16416   feature 68       4\n16538  feature 201      12\n16538   feature 80       9\n16538   feature 82       5\n16538  feature 203       7\n...            ...     ...\n18243   feature 68       1\n16843   feature 54       4\n16843  feature 170       2\n16843   feature 54       4\n16843  feature 170       2\n\n[19759 rows x 2 columns]\n         resource_type\nid                    \n16416  resource_type 8\n16538  resource_type 8\n17508  resource_type 8\n17909  resource_type 8\n16479  resource_type 8\n...                ...\n16653  resource_type 8\n18338  resource_type 8\n18304  resource_type 8\n18243  resource_type 8\n16843  resource_type 8\n\n[2018 rows x 1 columns]\n"
    }
   ],
   "source": [
    "event_type = pd.read_csv('test/event_type1.csv', index_col=0)\n",
    "severity_type = pd.read_csv('test/severity_type1.csv', index_col=0)\n",
    "log_feature = pd.read_csv('test/log_feature1.csv', index_col=0)\n",
    "resource_type = pd.read_csv('test/resource_type1.csv', index_col=0)\n",
    "print(event_type)\n",
    "print(severity_type)\n",
    "print(log_feature)\n",
    "print(resource_type)"
   ]
  },
  {
   "cell_type": "code",
   "execution_count": null,
   "metadata": {},
   "outputs": [],
   "source": []
  }
 ],
 "metadata": {
  "language_info": {
   "codemirror_mode": {
    "name": "ipython",
    "version": 3
   },
   "file_extension": ".py",
   "mimetype": "text/x-python",
   "name": "python",
   "nbconvert_exporter": "python",
   "pygments_lexer": "ipython3",
   "version": "3.7.6-final"
  },
  "orig_nbformat": 2,
  "kernelspec": {
   "name": "python3",
   "display_name": "Python 3"
  }
 },
 "nbformat": 4,
 "nbformat_minor": 2
}