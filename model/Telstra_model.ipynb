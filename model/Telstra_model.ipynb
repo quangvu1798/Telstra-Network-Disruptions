{
 "cells": [
  {
   "cell_type": "code",
   "execution_count": 1,
   "metadata": {},
   "outputs": [
    {
     "name": "stderr",
     "output_type": "stream",
     "text": [
      "C:\\Users\\no1sv\\anaconda3\\lib\\site-packages\\sklearn\\externals\\joblib\\__init__.py:15: FutureWarning: sklearn.externals.joblib is deprecated in 0.21 and will be removed in 0.23. Please import this functionality directly from joblib, which can be installed with: pip install joblib. If this warning is raised when loading pickled models, you may need to re-serialize those models with scikit-learn 0.21+.\n",
      "  warnings.warn(msg, category=FutureWarning)\n"
     ]
    }
   ],
   "source": [
    "import pandas as pd\n",
    "import numpy as np\n",
    "import matplotlib.pyplot as plt\n",
    "from sklearn.tree import DecisionTreeClassifier\n",
    "from sklearn.ensemble import RandomForestClassifier\n",
    "from sklearn.model_selection import train_test_split\n",
    "from sklearn import  metrics  \n",
    "from sklearn.externals import joblib"
   ]
  },
  {
   "cell_type": "code",
   "execution_count": 12,
   "metadata": {},
   "outputs": [],
   "source": [
    "train = pd.read_csv('../data/train.csv', index_col=0) \n",
    "\n",
    "train['location'] = [l.replace('location ', '') for l in train['location']]\n",
    "train['location'] = train['location'].astype('int')\n",
    "\n",
    "event_type = pd.read_csv('../data/event_type.csv', index_col=0)\n",
    "severity_type = pd.read_csv('../data/severity_type.csv', index_col=0)\n",
    "log_feature = pd.read_csv('../data/log_feature.csv', index_col=0)\n",
    "resource_type = pd.read_csv('../data/resource_type.csv', index_col=0)"
   ]
  },
  {
   "cell_type": "code",
   "execution_count": 13,
   "metadata": {},
   "outputs": [
    {
     "data": {
      "text/plain": [
       "(7381, 457)"
      ]
     },
     "execution_count": 13,
     "metadata": {},
     "output_type": "execute_result"
    }
   ],
   "source": [
    "eventTypeVectorized = pd.get_dummies(event_type).groupby(event_type.index).sum()\n",
    "logFeatureVectorized = pd.get_dummies(log_feature).groupby(log_feature.index).sum()\n",
    "resourceTypeVectorized = pd.get_dummies(resource_type).groupby(resource_type.index).sum()\n",
    "severityTypeVectorized = pd.get_dummies(severity_type).groupby(severity_type.index).sum()\n",
    "mergedTables = eventTypeVectorized.join(severityTypeVectorized).join(logFeatureVectorized).join(resourceTypeVectorized)\n",
    "df = train.join(mergedTables)\n",
    "df_1 = df\n",
    "df.shape"
   ]
  },
  {
   "cell_type": "code",
   "execution_count": 14,
   "metadata": {},
   "outputs": [
    {
     "name": "stdout",
     "output_type": "stream",
     "text": [
      "<class 'pandas.core.frame.DataFrame'>\n",
      "Int64Index: 7381 entries, 14121 to 17067\n",
      "Columns: 457 entries, location to resource_type_resource_type 9\n",
      "dtypes: int32(1), int64(2), uint8(454)\n",
      "memory usage: 3.7 MB\n",
      "(7381, 457)\n"
     ]
    },
    {
     "data": {
      "text/html": [
       "<div>\n",
       "<style scoped>\n",
       "    .dataframe tbody tr th:only-of-type {\n",
       "        vertical-align: middle;\n",
       "    }\n",
       "\n",
       "    .dataframe tbody tr th {\n",
       "        vertical-align: top;\n",
       "    }\n",
       "\n",
       "    .dataframe thead th {\n",
       "        text-align: right;\n",
       "    }\n",
       "</style>\n",
       "<table border=\"1\" class=\"dataframe\">\n",
       "  <thead>\n",
       "    <tr style=\"text-align: right;\">\n",
       "      <th></th>\n",
       "      <th>location</th>\n",
       "      <th>fault_severity</th>\n",
       "      <th>event_type_event_type 1</th>\n",
       "      <th>event_type_event_type 10</th>\n",
       "      <th>event_type_event_type 11</th>\n",
       "      <th>event_type_event_type 12</th>\n",
       "      <th>event_type_event_type 13</th>\n",
       "      <th>event_type_event_type 14</th>\n",
       "      <th>event_type_event_type 15</th>\n",
       "      <th>event_type_event_type 17</th>\n",
       "      <th>...</th>\n",
       "      <th>resource_type_resource_type 1</th>\n",
       "      <th>resource_type_resource_type 10</th>\n",
       "      <th>resource_type_resource_type 2</th>\n",
       "      <th>resource_type_resource_type 3</th>\n",
       "      <th>resource_type_resource_type 4</th>\n",
       "      <th>resource_type_resource_type 5</th>\n",
       "      <th>resource_type_resource_type 6</th>\n",
       "      <th>resource_type_resource_type 7</th>\n",
       "      <th>resource_type_resource_type 8</th>\n",
       "      <th>resource_type_resource_type 9</th>\n",
       "    </tr>\n",
       "    <tr>\n",
       "      <th>id</th>\n",
       "      <th></th>\n",
       "      <th></th>\n",
       "      <th></th>\n",
       "      <th></th>\n",
       "      <th></th>\n",
       "      <th></th>\n",
       "      <th></th>\n",
       "      <th></th>\n",
       "      <th></th>\n",
       "      <th></th>\n",
       "      <th></th>\n",
       "      <th></th>\n",
       "      <th></th>\n",
       "      <th></th>\n",
       "      <th></th>\n",
       "      <th></th>\n",
       "      <th></th>\n",
       "      <th></th>\n",
       "      <th></th>\n",
       "      <th></th>\n",
       "      <th></th>\n",
       "    </tr>\n",
       "  </thead>\n",
       "  <tbody>\n",
       "    <tr>\n",
       "      <th>14121</th>\n",
       "      <td>118</td>\n",
       "      <td>1</td>\n",
       "      <td>0</td>\n",
       "      <td>0</td>\n",
       "      <td>0</td>\n",
       "      <td>0</td>\n",
       "      <td>0</td>\n",
       "      <td>0</td>\n",
       "      <td>0</td>\n",
       "      <td>0</td>\n",
       "      <td>...</td>\n",
       "      <td>0</td>\n",
       "      <td>0</td>\n",
       "      <td>1</td>\n",
       "      <td>0</td>\n",
       "      <td>0</td>\n",
       "      <td>0</td>\n",
       "      <td>0</td>\n",
       "      <td>0</td>\n",
       "      <td>0</td>\n",
       "      <td>0</td>\n",
       "    </tr>\n",
       "    <tr>\n",
       "      <th>9320</th>\n",
       "      <td>91</td>\n",
       "      <td>0</td>\n",
       "      <td>0</td>\n",
       "      <td>0</td>\n",
       "      <td>0</td>\n",
       "      <td>0</td>\n",
       "      <td>0</td>\n",
       "      <td>0</td>\n",
       "      <td>0</td>\n",
       "      <td>0</td>\n",
       "      <td>...</td>\n",
       "      <td>0</td>\n",
       "      <td>0</td>\n",
       "      <td>1</td>\n",
       "      <td>0</td>\n",
       "      <td>0</td>\n",
       "      <td>0</td>\n",
       "      <td>0</td>\n",
       "      <td>0</td>\n",
       "      <td>0</td>\n",
       "      <td>0</td>\n",
       "    </tr>\n",
       "    <tr>\n",
       "      <th>14394</th>\n",
       "      <td>152</td>\n",
       "      <td>1</td>\n",
       "      <td>0</td>\n",
       "      <td>0</td>\n",
       "      <td>0</td>\n",
       "      <td>0</td>\n",
       "      <td>0</td>\n",
       "      <td>0</td>\n",
       "      <td>0</td>\n",
       "      <td>0</td>\n",
       "      <td>...</td>\n",
       "      <td>0</td>\n",
       "      <td>0</td>\n",
       "      <td>1</td>\n",
       "      <td>0</td>\n",
       "      <td>0</td>\n",
       "      <td>0</td>\n",
       "      <td>0</td>\n",
       "      <td>0</td>\n",
       "      <td>0</td>\n",
       "      <td>0</td>\n",
       "    </tr>\n",
       "    <tr>\n",
       "      <th>8218</th>\n",
       "      <td>931</td>\n",
       "      <td>1</td>\n",
       "      <td>0</td>\n",
       "      <td>0</td>\n",
       "      <td>1</td>\n",
       "      <td>0</td>\n",
       "      <td>0</td>\n",
       "      <td>0</td>\n",
       "      <td>1</td>\n",
       "      <td>0</td>\n",
       "      <td>...</td>\n",
       "      <td>0</td>\n",
       "      <td>0</td>\n",
       "      <td>0</td>\n",
       "      <td>0</td>\n",
       "      <td>0</td>\n",
       "      <td>0</td>\n",
       "      <td>0</td>\n",
       "      <td>0</td>\n",
       "      <td>1</td>\n",
       "      <td>0</td>\n",
       "    </tr>\n",
       "    <tr>\n",
       "      <th>14804</th>\n",
       "      <td>120</td>\n",
       "      <td>0</td>\n",
       "      <td>0</td>\n",
       "      <td>0</td>\n",
       "      <td>1</td>\n",
       "      <td>0</td>\n",
       "      <td>0</td>\n",
       "      <td>0</td>\n",
       "      <td>0</td>\n",
       "      <td>0</td>\n",
       "      <td>...</td>\n",
       "      <td>0</td>\n",
       "      <td>0</td>\n",
       "      <td>1</td>\n",
       "      <td>0</td>\n",
       "      <td>0</td>\n",
       "      <td>0</td>\n",
       "      <td>0</td>\n",
       "      <td>0</td>\n",
       "      <td>1</td>\n",
       "      <td>0</td>\n",
       "    </tr>\n",
       "  </tbody>\n",
       "</table>\n",
       "<p>5 rows × 457 columns</p>\n",
       "</div>"
      ],
      "text/plain": [
       "       location  fault_severity  event_type_event_type 1  \\\n",
       "id                                                         \n",
       "14121       118               1                        0   \n",
       "9320         91               0                        0   \n",
       "14394       152               1                        0   \n",
       "8218        931               1                        0   \n",
       "14804       120               0                        0   \n",
       "\n",
       "       event_type_event_type 10  event_type_event_type 11  \\\n",
       "id                                                          \n",
       "14121                         0                         0   \n",
       "9320                          0                         0   \n",
       "14394                         0                         0   \n",
       "8218                          0                         1   \n",
       "14804                         0                         1   \n",
       "\n",
       "       event_type_event_type 12  event_type_event_type 13  \\\n",
       "id                                                          \n",
       "14121                         0                         0   \n",
       "9320                          0                         0   \n",
       "14394                         0                         0   \n",
       "8218                          0                         0   \n",
       "14804                         0                         0   \n",
       "\n",
       "       event_type_event_type 14  event_type_event_type 15  \\\n",
       "id                                                          \n",
       "14121                         0                         0   \n",
       "9320                          0                         0   \n",
       "14394                         0                         0   \n",
       "8218                          0                         1   \n",
       "14804                         0                         0   \n",
       "\n",
       "       event_type_event_type 17  ...  resource_type_resource_type 1  \\\n",
       "id                               ...                                  \n",
       "14121                         0  ...                              0   \n",
       "9320                          0  ...                              0   \n",
       "14394                         0  ...                              0   \n",
       "8218                          0  ...                              0   \n",
       "14804                         0  ...                              0   \n",
       "\n",
       "       resource_type_resource_type 10  resource_type_resource_type 2  \\\n",
       "id                                                                     \n",
       "14121                               0                              1   \n",
       "9320                                0                              1   \n",
       "14394                               0                              1   \n",
       "8218                                0                              0   \n",
       "14804                               0                              1   \n",
       "\n",
       "       resource_type_resource_type 3  resource_type_resource_type 4  \\\n",
       "id                                                                    \n",
       "14121                              0                              0   \n",
       "9320                               0                              0   \n",
       "14394                              0                              0   \n",
       "8218                               0                              0   \n",
       "14804                              0                              0   \n",
       "\n",
       "       resource_type_resource_type 5  resource_type_resource_type 6  \\\n",
       "id                                                                    \n",
       "14121                              0                              0   \n",
       "9320                               0                              0   \n",
       "14394                              0                              0   \n",
       "8218                               0                              0   \n",
       "14804                              0                              0   \n",
       "\n",
       "       resource_type_resource_type 7  resource_type_resource_type 8  \\\n",
       "id                                                                    \n",
       "14121                              0                              0   \n",
       "9320                               0                              0   \n",
       "14394                              0                              0   \n",
       "8218                               0                              1   \n",
       "14804                              0                              1   \n",
       "\n",
       "       resource_type_resource_type 9  \n",
       "id                                    \n",
       "14121                              0  \n",
       "9320                               0  \n",
       "14394                              0  \n",
       "8218                               0  \n",
       "14804                              0  \n",
       "\n",
       "[5 rows x 457 columns]"
      ]
     },
     "execution_count": 14,
     "metadata": {},
     "output_type": "execute_result"
    }
   ],
   "source": [
    "# df_X = df_X.append(df[df['fault_severity']!=0])\n",
    "# df_X = df_X.append(df[df['fault_severity']==2])\n",
    "# mergedTables = df_X\n",
    "df_1.info()\n",
    "print(df_1.shape)\n",
    "#df_X['volume'] = volume_norm\n",
    "df_1.head(5)"
   ]
  },
  {
   "cell_type": "code",
   "execution_count": 15,
   "metadata": {},
   "outputs": [],
   "source": [
    "X = df_1.drop('fault_severity',1)\n",
    "y = df_1['fault_severity']\n",
    "\n",
    "# from imblearn.over_sampling import RandomOverSampler\n",
    "# ros = RandomOverSampler(random_state=88)\n",
    "# X, y = ros.fit_sample(X, y)\n",
    "X_train, X_test, y_train, y_test = train_test_split(X, y, test_size=0.3, random_state=42)"
   ]
  },
  {
   "cell_type": "code",
   "execution_count": 16,
   "metadata": {},
   "outputs": [
    {
     "data": {
      "text/plain": [
       "DecisionTreeClassifier(ccp_alpha=0.0, class_weight=None, criterion='entropy',\n",
       "                       max_depth=30, max_features=None, max_leaf_nodes=None,\n",
       "                       min_impurity_decrease=0.0, min_impurity_split=None,\n",
       "                       min_samples_leaf=1, min_samples_split=2,\n",
       "                       min_weight_fraction_leaf=0.0, presort='deprecated',\n",
       "                       random_state=None, splitter='best')"
      ]
     },
     "execution_count": 16,
     "metadata": {},
     "output_type": "execute_result"
    }
   ],
   "source": [
    "# Khởi tạo\n",
    "decision_tree = DecisionTreeClassifier(ccp_alpha=0.0, class_weight=None,criterion='entropy',\n",
    "                       max_depth=30, max_features=None, max_leaf_nodes=None,\n",
    "                       min_impurity_decrease=0.0, min_impurity_split=None,\n",
    "                       min_samples_leaf=1, min_samples_split=2,\n",
    "                       min_weight_fraction_leaf=0.0, presort='deprecated',\n",
    "                       random_state=None, splitter='best')\n",
    "# max_depth: độ sâu tối đa của cây\n",
    "#decision_tree = RandomForestClassifier(n_estimators=2000)\n",
    "#Huấn luyện\n",
    "#rdf.fit(X_train, y_train)\n",
    "decision_tree.fit(X_train, y_train)"
   ]
  },
  {
   "cell_type": "code",
   "execution_count": 20,
   "metadata": {},
   "outputs": [
    {
     "name": "stdout",
     "output_type": "stream",
     "text": [
      "              precision    recall  f1-score   support\n",
      "\n",
      "           0     0.8027    0.8168    0.8097      1430\n",
      "           1     0.5291    0.4991    0.5137       565\n",
      "           2     0.4978    0.5136    0.5056       220\n",
      "\n",
      "    accuracy                         0.7056      2215\n",
      "   macro avg     0.6099    0.6098    0.6097      2215\n",
      "weighted avg     0.7027    0.7056    0.7040      2215\n",
      "\n",
      "[[1168  206   56]\n",
      " [ 225  282   58]\n",
      " [  62   45  113]]\n"
     ]
    }
   ],
   "source": [
    "y_pred = decision_tree.predict(X_test)\n",
    "#y_pred = rdf.predict(X_test)\n",
    "\n",
    "report = metrics.classification_report(y_test,y_pred,digits=4) \n",
    "#print(accuracy_score(pd.DataFrame(decision_tree.predict(y_test,y_pred))\n",
    "print (report)\n",
    "\n",
    "matrix = metrics.confusion_matrix(y_test,y_pred)\n",
    "print(matrix)"
   ]
  },
  {
   "cell_type": "code",
   "execution_count": 21,
   "metadata": {},
   "outputs": [
    {
     "name": "stdout",
     "output_type": "stream",
     "text": [
      "(11430, 457)\n",
      "(11430, 456)\n",
      "(11430,)\n"
     ]
    }
   ],
   "source": [
    "df = df.append(df[df['fault_severity']!=0])\n",
    "df = df.append(df[df['fault_severity']==2])\n",
    "\n",
    "X = df.drop('fault_severity',1)\n",
    "y = df['fault_severity']\n",
    "\n",
    "print(df.shape)\n",
    "print(X.shape)\n",
    "print(y.shape)\n",
    "#Splitting the dataset into training and test set\n",
    "X_train, X_test, y_train, y_test = train_test_split(X, y, test_size=0.3, random_state=42)"
   ]
  },
  {
   "cell_type": "code",
   "execution_count": 22,
   "metadata": {},
   "outputs": [
    {
     "data": {
      "text/plain": [
       "DecisionTreeClassifier(ccp_alpha=0.0, class_weight=None, criterion='entropy',\n",
       "                       max_depth=30, max_features=None, max_leaf_nodes=None,\n",
       "                       min_impurity_decrease=0.0, min_impurity_split=None,\n",
       "                       min_samples_leaf=1, min_samples_split=2,\n",
       "                       min_weight_fraction_leaf=0.0, presort='deprecated',\n",
       "                       random_state=None, splitter='best')"
      ]
     },
     "execution_count": 22,
     "metadata": {},
     "output_type": "execute_result"
    }
   ],
   "source": [
    "# Khởi tạo\n",
    "decision_tree = DecisionTreeClassifier(ccp_alpha=0.0, class_weight=None,criterion='entropy',\n",
    "                       max_depth=30, max_features=None, max_leaf_nodes=None,\n",
    "                       min_impurity_decrease=0.0, min_impurity_split=None,\n",
    "                       min_samples_leaf=1, min_samples_split=2,\n",
    "                       min_weight_fraction_leaf=0.0, presort='deprecated',\n",
    "                       random_state=None, splitter='best')\n",
    "# max_depth: độ sâu tối đa của cây\n",
    "#decision_tree = RandomForestClassifier(n_estimators=2000)\n",
    "#Huấn luyện\n",
    "#rdf.fit(X_train, y_train)\n",
    "decision_tree.fit(X_train, y_train)"
   ]
  },
  {
   "cell_type": "code",
   "execution_count": 23,
   "metadata": {},
   "outputs": [
    {
     "name": "stdout",
     "output_type": "stream",
     "text": [
      "              precision    recall  f1-score   support\n",
      "\n",
      "           0     0.8881    0.7831    0.8323      1429\n",
      "           1     0.7851    0.8355    0.8095      1137\n",
      "           2     0.8749    0.9722    0.9210       863\n",
      "\n",
      "    accuracy                         0.8481      3429\n",
      "   macro avg     0.8494    0.8636    0.8543      3429\n",
      "weighted avg     0.8506    0.8481    0.8471      3429\n",
      "\n",
      "[[1119  243   67]\n",
      " [ 134  950   53]\n",
      " [   7   17  839]]\n"
     ]
    }
   ],
   "source": [
    "y_pred = decision_tree.predict(X_test)\n",
    "#y_pred = rdf.predict(X_test)\n",
    "\n",
    "report = metrics.classification_report(y_test,y_pred,digits=4) \n",
    "#print(accuracy_score(pd.DataFrame(decision_tree.predict(y_test,y_pred))\n",
    "print (report)\n",
    "\n",
    "matrix = metrics.confusion_matrix(y_test,y_pred)\n",
    "print(matrix)\n"
   ]
  },
  {
   "cell_type": "code",
   "execution_count": 27,
   "metadata": {},
   "outputs": [],
   "source": [
    "#import graphviz\n",
    "#from sklearn import tree\n",
    "\n",
    "#feature_names = X_test.columns\n",
    "#class_name = ['0','1', '2']\n",
    "\n",
    "#dot_data=tree.export_graphviz(decision_tree,max_depth=5,out_file=None,filled= True,rounded=True, feature_names=feature_names, node_ids=True,leaves_parallel=True, class_names=class_name)\n",
    "#graph= graphviz.Source(dot_data) \n",
    "#graph.render(\"Tree.pdf\")"
   ]
  },
  {
   "cell_type": "code",
   "execution_count": 24,
   "metadata": {},
   "outputs": [
    {
     "name": "stdout",
     "output_type": "stream",
     "text": [
      "0.9057027422960052\n"
     ]
    }
   ],
   "source": [
    "from sklearn.metrics import roc_curve, roc_auc_score, auc\n",
    "y_auc=roc_auc_score(y_test,decision_tree.predict_proba(X_test), multi_class=\"ovr\")\n",
    "print(y_auc)"
   ]
  },
  {
   "cell_type": "code",
   "execution_count": 26,
   "metadata": {},
   "outputs": [
    {
     "data": {
      "image/png": "[encoded data removed]",
      "text/plain": [
       "<Figure size 1224x432 with 1 Axes>"
      ]
     },
     "metadata": {
      "needs_background": "light"
     },
     "output_type": "display_data"
    }
   ],
   "source": [
    "def plot_multiclass_roc(clf, X_test, y_test, n_classes, figsize=(17, 6)):\n",
    "    y_score = clf.predict_proba(X_test)\n",
    "\n",
    "    # structures\n",
    "    fpr = dict()\n",
    "    tpr = dict()\n",
    "    roc_auc = dict()\n",
    "\n",
    "    # calculate dummies once\n",
    "    y_test_dummies = pd.get_dummies(y_test, drop_first=False).values\n",
    "    for i in range(n_classes):\n",
    "        fpr[i], tpr[i], _ = roc_curve(y_test_dummies[:, i], y_score[:, i])\n",
    "        roc_auc[i] = auc(fpr[i], tpr[i])\n",
    "\n",
    "    # roc for each class\n",
    "    fig, ax = plt.subplots(figsize=figsize)\n",
    "    ax.plot([0, 1], [0, 1], 'k--')\n",
    "    ax.set_xlim([0.0, 1.0])\n",
    "    ax.set_ylim([0.0, 1.05])\n",
    "    ax.set_xlabel('False Positive Rate')\n",
    "    ax.set_ylabel('True Positive Rate')\n",
    "    ax.set_title('Receiver operating characteristic example')\n",
    "    for i in range(n_classes):\n",
    "        ax.plot(fpr[i], tpr[i], label='ROC curve (area = %0.2f) for label %i' % (roc_auc[i], i))\n",
    "    ax.legend(loc=\"best\")\n",
    "    ax.grid(alpha=.4)\n",
    "    plt.show()\n",
    "\n",
    "plot_multiclass_roc(decision_tree, X_test, y_test, n_classes=3)"
   ]
  },
  {
   "cell_type": "code",
   "execution_count": 32,
   "metadata": {},
   "outputs": [],
   "source": [
    "from sklearn.model_selection import KFold\n",
    "from sklearn.model_selection import cross_val_score\n",
    "from sklearn.model_selection import ShuffleSplit\n",
    "from sklearn.model_selection import cross_validate\n",
    "from sklearn.model_selection import cross_val_predict\n",
    "from sklearn.metrics import recall_score\n",
    "num_folds = 10\n",
    "scoring = ['precision_macro', 'recall_macro']\n",
    "model = DecisionTreeClassifier(max_depth=30)\n",
    "cv = ShuffleSplit(n_splits=5, test_size=0.3, random_state=0)\n",
    "#model = LinearRegression()\n",
    "results = cross_val_score(model, X, y, cv=cv)\n",
    "scores = cross_validate(model, X, y, scoring=scoring)"
   ]
  },
  {
   "cell_type": "code",
   "execution_count": 33,
   "metadata": {},
   "outputs": [
    {
     "name": "stdout",
     "output_type": "stream",
     "text": [
      "[0.85156022 0.8407699  0.84164479 0.83960338 0.83552056]\n"
     ]
    },
    {
     "data": {
      "text/plain": [
       "array([0.89925078, 0.89816844, 0.90639268, 0.89618751, 0.90134296])"
      ]
     },
     "execution_count": 33,
     "metadata": {},
     "output_type": "execute_result"
    }
   ],
   "source": [
    "print(results)\n",
    "scores['test_precision_macro']"
   ]
  },
  {
   "cell_type": "code",
   "execution_count": null,
   "metadata": {},
   "outputs": [],
   "source": [
    "# model = RandomForestClassifier(n_estimators= 2000, random_state= 10, max_depth=30)\n",
    "# model.fit(X_train, y_train)"
   ]
  },
  {
   "cell_type": "code",
   "execution_count": null,
   "metadata": {},
   "outputs": [],
   "source": [
    "# y_pred = model.predict(X_test)\n",
    "# #y_pred = rdf.predict(X_test)\n",
    "\n",
    "# report = metrics.classification_report(y_test,y_pred,digits=4) \n",
    "# #print(accuracy_score(pd.DataFrame(decision_tree.predict(y_test,y_pred))\n",
    "# print (report)\n",
    "\n",
    "# matrix = metrics.confusion_matrix(y_test,y_pred)\n",
    "# print(matrix)\n",
    "\n",
    "# features = df_1.columns\n",
    "# importances = model.feature_importances_\n",
    "# indices = np.argsort(importances)\n",
    "# print(indices)\n",
    "# plt.figure(figsize=(12,100))\n",
    "# plt.title('Feature Importances')\n",
    "# plt.barh(range(len(indices)), importances[indices], color='b', align='center')\n",
    "# plt.yticks(range(len(indices)), features[indices])\n",
    "# plt.xlabel('Relative Importance')"
   ]
  },
  {
   "cell_type": "code",
   "execution_count": null,
   "metadata": {},
   "outputs": [],
   "source": [
    "# from sklearn.externals import joblib\n",
    "\n",
    "\n",
    "# joblib.dump(decision_tree, '../model/decision_tree_model.joblib')\n",
    "\n",
    "# decision_tree = joblib.load('../model/decision_tree_model.joblib')"
   ]
  },
  {
   "cell_type": "code",
   "execution_count": null,
   "metadata": {},
   "outputs": [],
   "source": [
    "def onehot(predict_data):\n",
    "    eventTypeVectorized = pd.get_dummies(event_type).groupby(event_type.index).sum()\n",
    "    logFeatureVectorized = pd.get_dummies(log_feature).groupby(log_feature.index).sum()\n",
    "    resourceTypeVectorized = pd.get_dummies(resource_type).groupby(resource_type.index).sum()\n",
    "    severityTypeVectorized = pd.get_dummies(severity_type).groupby(severity_type.index).sum()\n",
    "    mergedTables = eventTypeVectorized.join(severityTypeVectorized).join(logFeatureVectorized).join(resourceTypeVectorized)\n",
    "    df = predict_data.join(eventTypeVectorized).join(severityTypeVectorized).join(logFeatureVectorized).join(resourceTypeVectorized)\n",
    "    return df\n",
    "\n",
    "def predict_disruption(predict_data):\n",
    "    decision_tree = joblib.load('decision_tree_model.joblib')\n",
    "    data =predict_data\n",
    "    predict_data['location'] = [l.replace('location ', '') for l in predict_data['location']]\n",
    "    predict_data['location'] = predict_data['location'].astype('int')\n",
    "    predict_data = onehot(predict_data)\n",
    "    print(predict_data)\n",
    "    predict = decision_tree.predict(predict_data)\n",
    "    pred = pd.DataFrame(predict, columns = ['predict_disruptions'])\n",
    "    a = data.index\n",
    "    pred = pred.set_index(a)\n",
    "    submission = pd.concat([data, pred], axis =1)\n",
    "    return submission"
   ]
  },
  {
   "cell_type": "code",
   "execution_count": null,
   "metadata": {},
   "outputs": [],
   "source": [
    "data = pd.read_csv('../data/test1.csv', index_col=0)\n",
    "submission = predict_disruption(data)\n",
    "print(submission)"
   ]
  },
  {
   "cell_type": "code",
   "execution_count": null,
   "metadata": {},
   "outputs": [],
   "source": []
  }
 ],
 "metadata": {
  "kernelspec": {
   "display_name": "Python 3",
   "language": "python",
   "name": "python3"
  },
  "language_info": {
   "codemirror_mode": {
    "name": "ipython",
    "version": 3
   },
   "file_extension": ".py",
   "mimetype": "text/x-python",
   "name": "python",
   "nbconvert_exporter": "python",
   "pygments_lexer": "ipython3",
   "version": "3.7.6"
  }
 },
 "nbformat": 4,
 "nbformat_minor": 2
}
